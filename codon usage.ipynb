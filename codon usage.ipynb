{
 "cells": [
  {
   "cell_type": "markdown",
   "metadata": {},
   "source": [
    "source http://archive.ics.uci.edu/ml/datasets/Codon+usage"
   ]
  },
  {
   "cell_type": "code",
   "execution_count": 1,
   "metadata": {},
   "outputs": [],
   "source": [
    "import numpy as np\n",
    "import pandas as pd\n",
    "import matplotlib.pyplot as plt\n",
    "import seaborn as sns"
   ]
  },
  {
   "cell_type": "code",
   "execution_count": 2,
   "metadata": {},
   "outputs": [
    {
     "name": "stderr",
     "output_type": "stream",
     "text": [
      "C:\\Users\\Admin\\anaconda3\\lib\\site-packages\\IPython\\core\\interactiveshell.py:3071: DtypeWarning: Columns (5,6) have mixed types.Specify dtype option on import or set low_memory=False.\n",
      "  has_raised = await self.run_ast_nodes(code_ast.body, cell_name,\n"
     ]
    }
   ],
   "source": [
    "df=pd.read_csv('C:/Users/Admin/Desktop/daily practise/7 june/codon_usage/codon_usage.csv')"
   ]
  },
  {
   "cell_type": "code",
   "execution_count": 3,
   "metadata": {},
   "outputs": [
    {
     "data": {
      "text/html": [
       "<div>\n",
       "<style scoped>\n",
       "    .dataframe tbody tr th:only-of-type {\n",
       "        vertical-align: middle;\n",
       "    }\n",
       "\n",
       "    .dataframe tbody tr th {\n",
       "        vertical-align: top;\n",
       "    }\n",
       "\n",
       "    .dataframe thead th {\n",
       "        text-align: right;\n",
       "    }\n",
       "</style>\n",
       "<table border=\"1\" class=\"dataframe\">\n",
       "  <thead>\n",
       "    <tr style=\"text-align: right;\">\n",
       "      <th></th>\n",
       "      <th>Kingdom</th>\n",
       "      <th>DNAtype</th>\n",
       "      <th>SpeciesID</th>\n",
       "      <th>Ncodons</th>\n",
       "      <th>SpeciesName</th>\n",
       "      <th>UUU</th>\n",
       "      <th>UUC</th>\n",
       "      <th>UUA</th>\n",
       "      <th>UUG</th>\n",
       "      <th>CUU</th>\n",
       "      <th>...</th>\n",
       "      <th>CGG</th>\n",
       "      <th>AGA</th>\n",
       "      <th>AGG</th>\n",
       "      <th>GAU</th>\n",
       "      <th>GAC</th>\n",
       "      <th>GAA</th>\n",
       "      <th>GAG</th>\n",
       "      <th>UAA</th>\n",
       "      <th>UAG</th>\n",
       "      <th>UGA</th>\n",
       "    </tr>\n",
       "  </thead>\n",
       "  <tbody>\n",
       "    <tr>\n",
       "      <th>0</th>\n",
       "      <td>vrl</td>\n",
       "      <td>0</td>\n",
       "      <td>100217</td>\n",
       "      <td>1995</td>\n",
       "      <td>Epizootic haematopoietic necrosis virus</td>\n",
       "      <td>0.01654</td>\n",
       "      <td>0.01203</td>\n",
       "      <td>0.00050</td>\n",
       "      <td>0.00351</td>\n",
       "      <td>0.01203</td>\n",
       "      <td>...</td>\n",
       "      <td>0.00451</td>\n",
       "      <td>0.01303</td>\n",
       "      <td>0.03559</td>\n",
       "      <td>0.01003</td>\n",
       "      <td>0.04612</td>\n",
       "      <td>0.01203</td>\n",
       "      <td>0.04361</td>\n",
       "      <td>0.00251</td>\n",
       "      <td>0.00050</td>\n",
       "      <td>0.00000</td>\n",
       "    </tr>\n",
       "    <tr>\n",
       "      <th>1</th>\n",
       "      <td>vrl</td>\n",
       "      <td>0</td>\n",
       "      <td>100220</td>\n",
       "      <td>1474</td>\n",
       "      <td>Bohle iridovirus</td>\n",
       "      <td>0.02714</td>\n",
       "      <td>0.01357</td>\n",
       "      <td>0.00068</td>\n",
       "      <td>0.00678</td>\n",
       "      <td>0.00407</td>\n",
       "      <td>...</td>\n",
       "      <td>0.00136</td>\n",
       "      <td>0.01696</td>\n",
       "      <td>0.03596</td>\n",
       "      <td>0.01221</td>\n",
       "      <td>0.04545</td>\n",
       "      <td>0.01560</td>\n",
       "      <td>0.04410</td>\n",
       "      <td>0.00271</td>\n",
       "      <td>0.00068</td>\n",
       "      <td>0.00000</td>\n",
       "    </tr>\n",
       "    <tr>\n",
       "      <th>2</th>\n",
       "      <td>vrl</td>\n",
       "      <td>0</td>\n",
       "      <td>100755</td>\n",
       "      <td>4862</td>\n",
       "      <td>Sweet potato leaf curl virus</td>\n",
       "      <td>0.01974</td>\n",
       "      <td>0.0218</td>\n",
       "      <td>0.01357</td>\n",
       "      <td>0.01543</td>\n",
       "      <td>0.00782</td>\n",
       "      <td>...</td>\n",
       "      <td>0.00596</td>\n",
       "      <td>0.01974</td>\n",
       "      <td>0.02489</td>\n",
       "      <td>0.03126</td>\n",
       "      <td>0.02036</td>\n",
       "      <td>0.02242</td>\n",
       "      <td>0.02468</td>\n",
       "      <td>0.00391</td>\n",
       "      <td>0.00000</td>\n",
       "      <td>0.00144</td>\n",
       "    </tr>\n",
       "    <tr>\n",
       "      <th>3</th>\n",
       "      <td>vrl</td>\n",
       "      <td>0</td>\n",
       "      <td>100880</td>\n",
       "      <td>1915</td>\n",
       "      <td>Northern cereal mosaic virus</td>\n",
       "      <td>0.01775</td>\n",
       "      <td>0.02245</td>\n",
       "      <td>0.01619</td>\n",
       "      <td>0.00992</td>\n",
       "      <td>0.01567</td>\n",
       "      <td>...</td>\n",
       "      <td>0.00366</td>\n",
       "      <td>0.01410</td>\n",
       "      <td>0.01671</td>\n",
       "      <td>0.03760</td>\n",
       "      <td>0.01932</td>\n",
       "      <td>0.03029</td>\n",
       "      <td>0.03446</td>\n",
       "      <td>0.00261</td>\n",
       "      <td>0.00157</td>\n",
       "      <td>0.00000</td>\n",
       "    </tr>\n",
       "    <tr>\n",
       "      <th>4</th>\n",
       "      <td>vrl</td>\n",
       "      <td>0</td>\n",
       "      <td>100887</td>\n",
       "      <td>22831</td>\n",
       "      <td>Soil-borne cereal mosaic virus</td>\n",
       "      <td>0.02816</td>\n",
       "      <td>0.01371</td>\n",
       "      <td>0.00767</td>\n",
       "      <td>0.03679</td>\n",
       "      <td>0.01380</td>\n",
       "      <td>...</td>\n",
       "      <td>0.00604</td>\n",
       "      <td>0.01494</td>\n",
       "      <td>0.01734</td>\n",
       "      <td>0.04148</td>\n",
       "      <td>0.02483</td>\n",
       "      <td>0.03359</td>\n",
       "      <td>0.03679</td>\n",
       "      <td>0.00000</td>\n",
       "      <td>0.00044</td>\n",
       "      <td>0.00131</td>\n",
       "    </tr>\n",
       "  </tbody>\n",
       "</table>\n",
       "<p>5 rows × 69 columns</p>\n",
       "</div>"
      ],
      "text/plain": [
       "  Kingdom  DNAtype  SpeciesID  Ncodons  \\\n",
       "0     vrl        0     100217     1995   \n",
       "1     vrl        0     100220     1474   \n",
       "2     vrl        0     100755     4862   \n",
       "3     vrl        0     100880     1915   \n",
       "4     vrl        0     100887    22831   \n",
       "\n",
       "                               SpeciesName      UUU      UUC      UUA  \\\n",
       "0  Epizootic haematopoietic necrosis virus  0.01654  0.01203  0.00050   \n",
       "1                         Bohle iridovirus  0.02714  0.01357  0.00068   \n",
       "2             Sweet potato leaf curl virus  0.01974   0.0218  0.01357   \n",
       "3             Northern cereal mosaic virus  0.01775  0.02245  0.01619   \n",
       "4           Soil-borne cereal mosaic virus  0.02816  0.01371  0.00767   \n",
       "\n",
       "       UUG      CUU  ...      CGG      AGA      AGG      GAU      GAC  \\\n",
       "0  0.00351  0.01203  ...  0.00451  0.01303  0.03559  0.01003  0.04612   \n",
       "1  0.00678  0.00407  ...  0.00136  0.01696  0.03596  0.01221  0.04545   \n",
       "2  0.01543  0.00782  ...  0.00596  0.01974  0.02489  0.03126  0.02036   \n",
       "3  0.00992  0.01567  ...  0.00366  0.01410  0.01671  0.03760  0.01932   \n",
       "4  0.03679  0.01380  ...  0.00604  0.01494  0.01734  0.04148  0.02483   \n",
       "\n",
       "       GAA      GAG      UAA      UAG      UGA  \n",
       "0  0.01203  0.04361  0.00251  0.00050  0.00000  \n",
       "1  0.01560  0.04410  0.00271  0.00068  0.00000  \n",
       "2  0.02242  0.02468  0.00391  0.00000  0.00144  \n",
       "3  0.03029  0.03446  0.00261  0.00157  0.00000  \n",
       "4  0.03359  0.03679  0.00000  0.00044  0.00131  \n",
       "\n",
       "[5 rows x 69 columns]"
      ]
     },
     "execution_count": 3,
     "metadata": {},
     "output_type": "execute_result"
    }
   ],
   "source": [
    "df.head()"
   ]
  },
  {
   "cell_type": "code",
   "execution_count": 4,
   "metadata": {},
   "outputs": [
    {
     "name": "stdout",
     "output_type": "stream",
     "text": [
      "<class 'pandas.core.frame.DataFrame'>\n",
      "RangeIndex: 13028 entries, 0 to 13027\n",
      "Data columns (total 69 columns):\n",
      " #   Column       Non-Null Count  Dtype  \n",
      "---  ------       --------------  -----  \n",
      " 0   Kingdom      13028 non-null  object \n",
      " 1   DNAtype      13028 non-null  int64  \n",
      " 2   SpeciesID    13028 non-null  int64  \n",
      " 3   Ncodons      13028 non-null  int64  \n",
      " 4   SpeciesName  13028 non-null  object \n",
      " 5   UUU          13028 non-null  object \n",
      " 6   UUC          13028 non-null  object \n",
      " 7   UUA          13028 non-null  float64\n",
      " 8   UUG          13028 non-null  float64\n",
      " 9   CUU          13028 non-null  float64\n",
      " 10  CUC          13028 non-null  float64\n",
      " 11  CUA          13028 non-null  float64\n",
      " 12  CUG          13028 non-null  float64\n",
      " 13  AUU          13028 non-null  float64\n",
      " 14  AUC          13028 non-null  float64\n",
      " 15  AUA          13028 non-null  float64\n",
      " 16  AUG          13028 non-null  float64\n",
      " 17  GUU          13028 non-null  float64\n",
      " 18  GUC          13028 non-null  float64\n",
      " 19  GUA          13028 non-null  float64\n",
      " 20  GUG          13028 non-null  float64\n",
      " 21  GCU          13028 non-null  float64\n",
      " 22  GCC          13028 non-null  float64\n",
      " 23  GCA          13028 non-null  float64\n",
      " 24  GCG          13028 non-null  float64\n",
      " 25  CCU          13028 non-null  float64\n",
      " 26  CCC          13028 non-null  float64\n",
      " 27  CCA          13028 non-null  float64\n",
      " 28  CCG          13028 non-null  float64\n",
      " 29  UGG          13028 non-null  float64\n",
      " 30  GGU          13028 non-null  float64\n",
      " 31  GGC          13028 non-null  float64\n",
      " 32  GGA          13028 non-null  float64\n",
      " 33  GGG          13028 non-null  float64\n",
      " 34  UCU          13028 non-null  float64\n",
      " 35  UCC          13028 non-null  float64\n",
      " 36  UCA          13028 non-null  float64\n",
      " 37  UCG          13028 non-null  float64\n",
      " 38  AGU          13028 non-null  float64\n",
      " 39  AGC          13028 non-null  float64\n",
      " 40  ACU          13028 non-null  float64\n",
      " 41  ACC          13028 non-null  float64\n",
      " 42  ACA          13028 non-null  float64\n",
      " 43  ACG          13028 non-null  float64\n",
      " 44  UAU          13028 non-null  float64\n",
      " 45  UAC          13028 non-null  float64\n",
      " 46  CAA          13028 non-null  float64\n",
      " 47  CAG          13028 non-null  float64\n",
      " 48  AAU          13028 non-null  float64\n",
      " 49  AAC          13028 non-null  float64\n",
      " 50  UGU          13028 non-null  float64\n",
      " 51  UGC          13028 non-null  float64\n",
      " 52  CAU          13028 non-null  float64\n",
      " 53  CAC          13028 non-null  float64\n",
      " 54  AAA          13028 non-null  float64\n",
      " 55  AAG          13028 non-null  float64\n",
      " 56  CGU          13028 non-null  float64\n",
      " 57  CGC          13028 non-null  float64\n",
      " 58  CGA          13028 non-null  float64\n",
      " 59  CGG          13028 non-null  float64\n",
      " 60  AGA          13028 non-null  float64\n",
      " 61  AGG          13028 non-null  float64\n",
      " 62  GAU          13028 non-null  float64\n",
      " 63  GAC          13028 non-null  float64\n",
      " 64  GAA          13028 non-null  float64\n",
      " 65  GAG          13028 non-null  float64\n",
      " 66  UAA          13028 non-null  float64\n",
      " 67  UAG          13028 non-null  float64\n",
      " 68  UGA          13028 non-null  float64\n",
      "dtypes: float64(62), int64(3), object(4)\n",
      "memory usage: 6.9+ MB\n"
     ]
    }
   ],
   "source": [
    "df.info()"
   ]
  },
  {
   "cell_type": "code",
   "execution_count": 5,
   "metadata": {},
   "outputs": [
    {
     "data": {
      "text/plain": [
       "(13028, 69)"
      ]
     },
     "execution_count": 5,
     "metadata": {},
     "output_type": "execute_result"
    }
   ],
   "source": [
    "df.shape"
   ]
  },
  {
   "cell_type": "code",
   "execution_count": 7,
   "metadata": {},
   "outputs": [
    {
     "name": "stderr",
     "output_type": "stream",
     "text": [
      "C:\\Users\\Admin\\anaconda3\\lib\\site-packages\\pandas\\core\\indexing.py:671: SettingWithCopyWarning: \n",
      "A value is trying to be set on a copy of a slice from a DataFrame\n",
      "\n",
      "See the caveats in the documentation: https://pandas.pydata.org/pandas-docs/stable/user_guide/indexing.html#returning-a-view-versus-a-copy\n",
      "  self._setitem_with_indexer(indexer, value)\n"
     ]
    }
   ],
   "source": [
    "df['UUC'].iloc[np.where(np.array(df['UUC'])=='-')]=0"
   ]
  },
  {
   "cell_type": "code",
   "execution_count": 8,
   "metadata": {},
   "outputs": [
    {
     "data": {
      "text/plain": [
       "0.0"
      ]
     },
     "execution_count": 8,
     "metadata": {},
     "output_type": "execute_result"
    }
   ],
   "source": [
    "np.min(np.array(df['UUC'].astype('float')))"
   ]
  },
  {
   "cell_type": "code",
   "execution_count": 9,
   "metadata": {},
   "outputs": [
    {
     "data": {
      "text/plain": [
       "(array([], dtype=int64),)"
      ]
     },
     "execution_count": 9,
     "metadata": {},
     "output_type": "execute_result"
    }
   ],
   "source": [
    "np.where(np.array(df['UUC'])=='<')"
   ]
  },
  {
   "cell_type": "code",
   "execution_count": 10,
   "metadata": {},
   "outputs": [],
   "source": [
    "np.set_printoptions(threshold=13028)"
   ]
  },
  {
   "cell_type": "code",
   "execution_count": 11,
   "metadata": {},
   "outputs": [
    {
     "data": {
      "text/plain": [
       "305.37352"
      ]
     },
     "execution_count": 11,
     "metadata": {},
     "output_type": "execute_result"
    }
   ],
   "source": [
    "np.sum(np.array(df['UUC'].astype('float')))"
   ]
  },
  {
   "cell_type": "code",
   "execution_count": 12,
   "metadata": {},
   "outputs": [],
   "source": [
    "df['UUU'].iloc[np.where(np.array(df['UUU'])=='non-B hepatitis virus')]=0\n",
    "df['UUU'].iloc[np.where(np.array(df['UUU'])=='12;I')]=0"
   ]
  },
  {
   "cell_type": "code",
   "execution_count": 13,
   "metadata": {},
   "outputs": [
    {
     "data": {
      "text/plain": [
       "0.0"
      ]
     },
     "execution_count": 13,
     "metadata": {},
     "output_type": "execute_result"
    }
   ],
   "source": [
    "np.min(np.array(df['UUU'].astype('float')))"
   ]
  },
  {
   "cell_type": "code",
   "execution_count": 14,
   "metadata": {},
   "outputs": [
    {
     "data": {
      "text/plain": [
       "0        0.01654\n",
       "2        0.01974\n",
       "3        0.01775\n",
       "8        0.01105\n",
       "21       0.01499\n",
       "          ...   \n",
       "13022    0.01228\n",
       "13024    0.01258\n",
       "13025    0.01423\n",
       "13026    0.01757\n",
       "13027    0.01778\n",
       "Name: UUU, Length: 4552, dtype: object"
      ]
     },
     "execution_count": 14,
     "metadata": {},
     "output_type": "execute_result"
    }
   ],
   "source": [
    "# extarct elements from column uuu which is greater tahn 0.01 and less than 0.022\n",
    "df[(df['UUU'].astype('float')>0.01) & (df['UUU'].astype('float')<0.022)]['UUU']"
   ]
  },
  {
   "cell_type": "code",
   "execution_count": 22,
   "metadata": {},
   "outputs": [
    {
     "data": {
      "text/plain": [
       "21"
      ]
     },
     "execution_count": 22,
     "metadata": {},
     "output_type": "execute_result"
    }
   ],
   "source": [
    "# get position/index of column uuu where uuu >0.01 and <0.022\n",
    "np.where((np.array(df['UUU'].astype('float'))>0.01) & (np.array(df['UUU'].astype('float'))<0.022) )[0][4]"
   ]
  },
  {
   "cell_type": "code",
   "execution_count": 23,
   "metadata": {},
   "outputs": [
    {
     "data": {
      "text/plain": [
       "array([2.01654, 2.02714, 2.01974, 2.01775, 2.02816, 2.02579, 2.04635,\n",
       "       2.02285, 2.01105, 2.03411, 2.03441, 2.03305, 2.03354, 2.02749,\n",
       "       2.03128, 2.05276, 2.02889, 2.00926, 2.00939, 2.042  , 2.03233,\n",
       "       2.01499, 2.01504, 2.01452, 2.0053 , 2.01409, 2.02283, 2.02921,\n",
       "       2.02487, 2.03354, 2.01514, 2.01486, 2.00983, 2.03191, 2.00491,\n",
       "       2.00999, 2.01909, 2.02907, 2.01658, 2.01904, 2.0238 , 2.02115,\n",
       "       2.01213, 2.02425, 2.01413, 2.02148, 2.02485, 2.02337, 2.02857,\n",
       "       2.00699])"
      ]
     },
     "execution_count": 23,
     "metadata": {},
     "output_type": "execute_result"
    }
   ],
   "source": [
    "# use a function on numpy array\n",
    "def plu2(a):\n",
    "    return a+2\n",
    "df_plus2=np.vectorize(plu2)\n",
    "df_plus2(np.array(df['UUU'].astype('float')))[0:50]"
   ]
  },
  {
   "cell_type": "code",
   "execution_count": 24,
   "metadata": {},
   "outputs": [
    {
     "data": {
      "text/plain": [
       "[2.01654,\n",
       " 2.02714,\n",
       " 2.01974,\n",
       " 2.01775,\n",
       " 2.02816,\n",
       " 2.02579,\n",
       " 2.04635,\n",
       " 2.02285,\n",
       " 2.01105,\n",
       " 2.03411]"
      ]
     },
     "execution_count": 24,
     "metadata": {},
     "output_type": "execute_result"
    }
   ],
   "source": [
    "# use map, filter, reduce  with lambda function\n",
    "[*map(lambda x : x+2, df['UUU'].astype('float'))][0:10]"
   ]
  },
  {
   "cell_type": "code",
   "execution_count": 25,
   "metadata": {},
   "outputs": [
    {
     "data": {
      "text/plain": [
       "[0.01654,\n",
       " 0.01974,\n",
       " 0.01775,\n",
       " 0.01105,\n",
       " 0.01499,\n",
       " 0.01504,\n",
       " 0.01452,\n",
       " 0.01409,\n",
       " 0.01514,\n",
       " 0.01486]"
      ]
     },
     "execution_count": 25,
     "metadata": {},
     "output_type": "execute_result"
    }
   ],
   "source": [
    "[*filter(lambda x : x>0.01 and x<0.02,df['UUU'].astype('float'))][0:10]"
   ]
  },
  {
   "cell_type": "code",
   "execution_count": 26,
   "metadata": {},
   "outputs": [
    {
     "name": "stderr",
     "output_type": "stream",
     "text": [
      "<ipython-input-26-b9f37e91a74b>:2: ConversionWarning: Some errors were detected !\n",
      "    Line #1473 (got 5 columns instead of 69)\n",
      "  df_numpy=np.genfromtxt('C:/Users/Admin/Desktop/daily practise/7 june/codon_usage/codon_usage.csv',skip_header=1,delimiter=',',invalid_raise=False, dtype=None)\n",
      "<ipython-input-26-b9f37e91a74b>:2: VisibleDeprecationWarning: Reading unicode strings without specifying the encoding argument is deprecated. Set the encoding, use None for the system default.\n",
      "  df_numpy=np.genfromtxt('C:/Users/Admin/Desktop/daily practise/7 june/codon_usage/codon_usage.csv',skip_header=1,delimiter=',',invalid_raise=False, dtype=None)\n"
     ]
    }
   ],
   "source": [
    "# create numpy array from dataset\n",
    "df_numpy=np.genfromtxt('C:/Users/Admin/Desktop/daily practise/7 june/codon_usage/codon_usage.csv',skip_header=1,delimiter=',',invalid_raise=False, dtype=None)"
   ]
  },
  {
   "cell_type": "code",
   "execution_count": 27,
   "metadata": {},
   "outputs": [
    {
     "data": {
      "text/plain": [
       "(b'vrl', 0, 101947, 2897, b'Pseudorabies virus Ea', b'0.01105', b'0.02106', 0.00035, 0.00104, 0.00035, 0.04142, 0.00069, 0.05868, 0.00104, 0.01933, 0.00173, 0.01691, 0., 0.04004, 0.00069, 0.04522, 0.00276, 0.06973, 0.00069, 0.05212, 0.00173, 0.04764, 0.00173, 0.04177, 0.01139, 0.00242, 0.04108, 0.00621, 0.02969, 0.00449, 0.01622, 0.00035, 0.02313, 0.00035, 0.02071, 0.00104, 0.02589, 0., 0.03176, 0.00173, 0.02485, 0.00138, 0.01622, 0.00138, 0.01519, 0.00035, 0.01968, 0.00173, 0.01933, 0.00035, 0.00897, 0.00207, 0.0535, 0.00311, 0.02658, 0.00207, 0.00311, 0.00414, 0.04556, 0.00449, 0.04867, 0.00138, 0.00035, 0.00138)"
      ]
     },
     "execution_count": 27,
     "metadata": {},
     "output_type": "execute_result"
    }
   ],
   "source": [
    "df_numpy[8]"
   ]
  },
  {
   "cell_type": "code",
   "execution_count": 28,
   "metadata": {},
   "outputs": [
    {
     "data": {
      "text/html": [
       "<div>\n",
       "<style scoped>\n",
       "    .dataframe tbody tr th:only-of-type {\n",
       "        vertical-align: middle;\n",
       "    }\n",
       "\n",
       "    .dataframe tbody tr th {\n",
       "        vertical-align: top;\n",
       "    }\n",
       "\n",
       "    .dataframe thead th {\n",
       "        text-align: right;\n",
       "    }\n",
       "</style>\n",
       "<table border=\"1\" class=\"dataframe\">\n",
       "  <thead>\n",
       "    <tr style=\"text-align: right;\">\n",
       "      <th></th>\n",
       "      <th>Kingdom</th>\n",
       "      <th>DNAtype</th>\n",
       "      <th>SpeciesID</th>\n",
       "      <th>Ncodons</th>\n",
       "      <th>SpeciesName</th>\n",
       "      <th>UUU</th>\n",
       "      <th>UUC</th>\n",
       "      <th>UUA</th>\n",
       "      <th>UUG</th>\n",
       "      <th>CUU</th>\n",
       "      <th>...</th>\n",
       "      <th>CGG</th>\n",
       "      <th>AGA</th>\n",
       "      <th>AGG</th>\n",
       "      <th>GAU</th>\n",
       "      <th>GAC</th>\n",
       "      <th>GAA</th>\n",
       "      <th>GAG</th>\n",
       "      <th>UAA</th>\n",
       "      <th>UAG</th>\n",
       "      <th>UGA</th>\n",
       "    </tr>\n",
       "  </thead>\n",
       "  <tbody>\n",
       "    <tr>\n",
       "      <th>1473</th>\n",
       "      <td>vrl</td>\n",
       "      <td>0</td>\n",
       "      <td>292477</td>\n",
       "      <td>4058</td>\n",
       "      <td>Pepper yellow leaf curl Indonesia virus</td>\n",
       "      <td>0.0207</td>\n",
       "      <td>0.02144</td>\n",
       "      <td>0.01281</td>\n",
       "      <td>0.01355</td>\n",
       "      <td>0.01331</td>\n",
       "      <td>...</td>\n",
       "      <td>0.00764</td>\n",
       "      <td>0.01725</td>\n",
       "      <td>0.01232</td>\n",
       "      <td>0.02366</td>\n",
       "      <td>0.02119</td>\n",
       "      <td>0.02785</td>\n",
       "      <td>0.01774</td>\n",
       "      <td>0.00271</td>\n",
       "      <td>0.00049</td>\n",
       "      <td>0.00222</td>\n",
       "    </tr>\n",
       "  </tbody>\n",
       "</table>\n",
       "<p>1 rows × 69 columns</p>\n",
       "</div>"
      ],
      "text/plain": [
       "     Kingdom  DNAtype  SpeciesID  Ncodons  \\\n",
       "1473     vrl        0     292477     4058   \n",
       "\n",
       "                                  SpeciesName     UUU      UUC      UUA  \\\n",
       "1473  Pepper yellow leaf curl Indonesia virus  0.0207  0.02144  0.01281   \n",
       "\n",
       "          UUG      CUU  ...      CGG      AGA      AGG      GAU      GAC  \\\n",
       "1473  0.01355  0.01331  ...  0.00764  0.01725  0.01232  0.02366  0.02119   \n",
       "\n",
       "          GAA      GAG      UAA      UAG      UGA  \n",
       "1473  0.02785  0.01774  0.00271  0.00049  0.00222  \n",
       "\n",
       "[1 rows x 69 columns]"
      ]
     },
     "execution_count": 28,
     "metadata": {},
     "output_type": "execute_result"
    }
   ],
   "source": [
    "df.iloc[[1473]]"
   ]
  },
  {
   "cell_type": "code",
   "execution_count": 29,
   "metadata": {},
   "outputs": [],
   "source": [
    "# extarct 8th column from the df_numpy\n",
    "df_numpy_5=np.array([row[7] for row in df_numpy])"
   ]
  },
  {
   "cell_type": "code",
   "execution_count": 34,
   "metadata": {},
   "outputs": [
    {
     "data": {
      "text/plain": [
       "0.18310976012687505"
      ]
     },
     "execution_count": 34,
     "metadata": {},
     "output_type": "execute_result"
    }
   ],
   "source": [
    "# normalize the above column\n",
    "[(df_numpy_5.astype('float') - np.min(df_numpy_5.astype('float')))/(np.max(df_numpy_5.astype('float'))-np.min(df_numpy_5.astype('float')))][0][9]"
   ]
  },
  {
   "cell_type": "code",
   "execution_count": 35,
   "metadata": {},
   "outputs": [
    {
     "name": "stdout",
     "output_type": "stream",
     "text": [
      "0.02063707760804483\n",
      "0.01526\n",
      "[0.00561 0.02949]\n"
     ]
    }
   ],
   "source": [
    "# get the common statistic value from the first column\n",
    "print(np.mean(df_numpy_5.astype('float')))\n",
    "print(np.median(df_numpy_5.astype('float')))\n",
    "print(np.percentile(df_numpy_5.astype('float'),[25,75]))"
   ]
  },
  {
   "cell_type": "code",
   "execution_count": 36,
   "metadata": {},
   "outputs": [],
   "source": [
    "# insert nan values in the subset of the dataframe\n",
    "df_sub = df.iloc[:,:5].copy()"
   ]
  },
  {
   "cell_type": "code",
   "execution_count": 37,
   "metadata": {},
   "outputs": [
    {
     "name": "stdout",
     "output_type": "stream",
     "text": [
      "<class 'pandas.core.frame.DataFrame'>\n",
      "RangeIndex: 13028 entries, 0 to 13027\n",
      "Data columns (total 5 columns):\n",
      " #   Column       Non-Null Count  Dtype \n",
      "---  ------       --------------  ----- \n",
      " 0   Kingdom      13028 non-null  object\n",
      " 1   DNAtype      13028 non-null  int64 \n",
      " 2   SpeciesID    13028 non-null  int64 \n",
      " 3   Ncodons      13028 non-null  int64 \n",
      " 4   SpeciesName  13028 non-null  object\n",
      "dtypes: int64(3), object(2)\n",
      "memory usage: 509.0+ KB\n"
     ]
    }
   ],
   "source": [
    "df_sub.info()"
   ]
  },
  {
   "cell_type": "code",
   "execution_count": 38,
   "metadata": {},
   "outputs": [
    {
     "data": {
      "text/html": [
       "<div>\n",
       "<style scoped>\n",
       "    .dataframe tbody tr th:only-of-type {\n",
       "        vertical-align: middle;\n",
       "    }\n",
       "\n",
       "    .dataframe tbody tr th {\n",
       "        vertical-align: top;\n",
       "    }\n",
       "\n",
       "    .dataframe thead th {\n",
       "        text-align: right;\n",
       "    }\n",
       "</style>\n",
       "<table border=\"1\" class=\"dataframe\">\n",
       "  <thead>\n",
       "    <tr style=\"text-align: right;\">\n",
       "      <th></th>\n",
       "      <th>Kingdom</th>\n",
       "      <th>DNAtype</th>\n",
       "      <th>SpeciesID</th>\n",
       "      <th>Ncodons</th>\n",
       "      <th>SpeciesName</th>\n",
       "    </tr>\n",
       "  </thead>\n",
       "  <tbody>\n",
       "    <tr>\n",
       "      <th>0</th>\n",
       "      <td>vrl</td>\n",
       "      <td>0</td>\n",
       "      <td>100217</td>\n",
       "      <td>1995</td>\n",
       "      <td>Epizootic haematopoietic necrosis virus</td>\n",
       "    </tr>\n",
       "    <tr>\n",
       "      <th>1</th>\n",
       "      <td>vrl</td>\n",
       "      <td>0</td>\n",
       "      <td>100220</td>\n",
       "      <td>1474</td>\n",
       "      <td>Bohle iridovirus</td>\n",
       "    </tr>\n",
       "    <tr>\n",
       "      <th>2</th>\n",
       "      <td>vrl</td>\n",
       "      <td>0</td>\n",
       "      <td>100755</td>\n",
       "      <td>4862</td>\n",
       "      <td>Sweet potato leaf curl virus</td>\n",
       "    </tr>\n",
       "    <tr>\n",
       "      <th>3</th>\n",
       "      <td>vrl</td>\n",
       "      <td>0</td>\n",
       "      <td>100880</td>\n",
       "      <td>1915</td>\n",
       "      <td>Northern cereal mosaic virus</td>\n",
       "    </tr>\n",
       "    <tr>\n",
       "      <th>4</th>\n",
       "      <td>vrl</td>\n",
       "      <td>0</td>\n",
       "      <td>100887</td>\n",
       "      <td>22831</td>\n",
       "      <td>Soil-borne cereal mosaic virus</td>\n",
       "    </tr>\n",
       "  </tbody>\n",
       "</table>\n",
       "</div>"
      ],
      "text/plain": [
       "  Kingdom  DNAtype  SpeciesID  Ncodons  \\\n",
       "0     vrl        0     100217     1995   \n",
       "1     vrl        0     100220     1474   \n",
       "2     vrl        0     100755     4862   \n",
       "3     vrl        0     100880     1915   \n",
       "4     vrl        0     100887    22831   \n",
       "\n",
       "                               SpeciesName  \n",
       "0  Epizootic haematopoietic necrosis virus  \n",
       "1                         Bohle iridovirus  \n",
       "2             Sweet potato leaf curl virus  \n",
       "3             Northern cereal mosaic virus  \n",
       "4           Soil-borne cereal mosaic virus  "
      ]
     },
     "execution_count": 38,
     "metadata": {},
     "output_type": "execute_result"
    }
   ],
   "source": [
    "df_sub.head()"
   ]
  },
  {
   "cell_type": "code",
   "execution_count": 39,
   "metadata": {},
   "outputs": [],
   "source": [
    "# inserting nan values in a dataframe\n",
    "np.random.seed(100)\n",
    "df_sub.iloc[np.random.randint(0,13028,size=20),np.random.randint(0,5,size=20)]=np.nan"
   ]
  },
  {
   "cell_type": "code",
   "execution_count": 40,
   "metadata": {},
   "outputs": [
    {
     "name": "stderr",
     "output_type": "stream",
     "text": [
      "<ipython-input-40-b2f67453d34c>:1: ConversionWarning: Some errors were detected !\n",
      "    Line #1473 (got 5 columns instead of 69)\n",
      "  df_nu=np.genfromtxt('C:/Users/Admin/Desktop/daily practise/7 june/codon_usage/codon_usage.csv',skip_header=1,delimiter=',',invalid_raise=False, dtype='float')\n"
     ]
    },
    {
     "data": {
      "text/plain": [
       "array([[        nan, 0.00000e+00, 1.00217e+05, 1.99500e+03,         nan,\n",
       "        1.65400e-02, 1.20300e-02, 5.00000e-04, 3.51000e-03, 1.20300e-02,\n",
       "        3.20800e-02, 1.00000e-03, 4.01000e-02, 5.51000e-03, 2.00500e-02,\n",
       "        7.52000e-03, 2.50600e-02, 1.10300e-02, 4.11000e-02, 9.02000e-03,\n",
       "        3.30800e-02, 1.00300e-02, 5.01300e-02, 1.55400e-02, 1.10300e-02,\n",
       "        2.35600e-02, 3.20800e-02, 1.20300e-02, 5.01000e-03, 1.00300e-02,\n",
       "        1.20300e-02, 3.15800e-02, 1.90500e-02, 2.45600e-02, 1.35300e-02,\n",
       "        2.15500e-02, 2.51000e-03, 6.52000e-03, 1.50000e-03, 1.55400e-02,\n",
       "        5.01000e-03, 2.10500e-02, 9.02000e-03, 1.05300e-02, 5.01000e-03,\n",
       "        2.25600e-02, 3.01000e-03, 3.10800e-02, 4.01000e-03, 2.60700e-02,\n",
       "        2.51000e-03, 1.15300e-02, 5.01000e-03, 2.35600e-02, 1.05300e-02,\n",
       "        3.86000e-02, 4.01000e-03, 7.02000e-03, 4.01000e-03, 4.51000e-03,\n",
       "        1.30300e-02, 3.55900e-02, 1.00300e-02, 4.61200e-02, 1.20300e-02,\n",
       "        4.36100e-02, 2.51000e-03, 5.00000e-04, 0.00000e+00],\n",
       "       [        nan, 0.00000e+00, 1.00220e+05, 1.47400e+03,         nan,\n",
       "        2.71400e-02, 1.35700e-02, 6.80000e-04, 6.78000e-03, 4.07000e-03,\n",
       "        2.84900e-02, 2.04000e-03, 4.41000e-02, 1.15300e-02, 2.51000e-02,\n",
       "        8.82000e-03, 3.32400e-02, 8.14000e-03, 4.07100e-02, 8.14000e-03,\n",
       "        3.25600e-02, 1.08500e-02, 4.88500e-02, 1.22100e-02, 1.35700e-02,\n",
       "        6.78000e-03, 2.71400e-02, 1.22100e-02, 4.07000e-03, 1.42500e-02,\n",
       "        1.22100e-02, 1.96700e-02, 2.23900e-02, 1.28900e-02, 2.10300e-02,\n",
       "        1.49300e-02, 4.07000e-03, 4.75000e-03, 6.80000e-04, 2.03500e-02,\n",
       "        9.50000e-03, 2.78200e-02, 1.42500e-02, 6.11000e-03, 4.75000e-03,\n",
       "        2.91700e-02, 4.07000e-03, 2.37400e-02, 8.82000e-03, 2.91700e-02,\n",
       "        2.71000e-03, 1.62800e-02, 2.04000e-03, 1.96700e-02, 5.43000e-03,\n",
       "        3.39200e-02, 1.36000e-03, 6.78000e-03, 1.36000e-03, 1.36000e-03,\n",
       "        1.69600e-02, 3.59600e-02, 1.22100e-02, 4.54500e-02, 1.56000e-02,\n",
       "        4.41000e-02, 2.71000e-03, 6.80000e-04, 0.00000e+00],\n",
       "       [        nan, 0.00000e+00, 1.00755e+05, 4.86200e+03,         nan,\n",
       "        1.97400e-02, 2.18000e-02, 1.35700e-02, 1.54300e-02, 7.82000e-03,\n",
       "        1.11100e-02, 1.02800e-02, 1.19300e-02, 2.28300e-02, 1.60400e-02,\n",
       "        1.31600e-02, 2.18000e-02, 1.62500e-02, 1.87200e-02, 1.21300e-02,\n",
       "        1.07000e-02, 2.40600e-02, 1.23400e-02, 1.44000e-02, 5.14000e-03,\n",
       "        1.60400e-02, 1.46000e-02, 2.09800e-02, 1.07000e-02, 1.72800e-02,\n",
       "        1.85100e-02, 8.64000e-03, 1.17200e-02, 1.89200e-02, 1.93300e-02,\n",
       "        1.41900e-02, 1.29600e-02, 9.67000e-03, 1.33700e-02, 1.33700e-02,\n",
       "        1.85100e-02, 1.13100e-02, 1.41900e-02, 1.09000e-02, 2.61200e-02,\n",
       "        1.27500e-02, 1.52200e-02, 2.36500e-02, 2.96200e-02, 1.78900e-02,\n",
       "        1.62500e-02, 1.23400e-02, 1.60400e-02, 1.68700e-02, 2.07700e-02,\n",
       "        3.94900e-02, 8.64000e-03, 5.96000e-03, 9.26000e-03, 5.96000e-03,\n",
       "        1.97400e-02, 2.48900e-02, 3.12600e-02, 2.03600e-02, 2.24200e-02,\n",
       "        2.46800e-02, 3.91000e-03, 0.00000e+00, 1.44000e-03],\n",
       "       [        nan, 0.00000e+00, 1.00880e+05, 1.91500e+03,         nan,\n",
       "        1.77500e-02, 2.24500e-02, 1.61900e-02, 9.92000e-03, 1.56700e-02,\n",
       "        1.35800e-02, 9.40000e-03, 1.72300e-02, 2.40200e-02, 2.24500e-02,\n",
       "        2.50700e-02, 2.92400e-02, 2.08900e-02, 2.14100e-02, 1.72300e-02,\n",
       "        1.93200e-02, 2.14100e-02, 6.79000e-03, 2.24500e-02, 5.22000e-03,\n",
       "        1.35800e-02, 4.18000e-03, 1.41000e-02, 5.74000e-03, 1.20100e-02,\n",
       "        9.92000e-03, 3.66000e-03, 2.40200e-02, 2.66300e-02, 2.87200e-02,\n",
       "        9.92000e-03, 2.35000e-02, 5.22000e-03, 1.61900e-02, 8.36000e-03,\n",
       "        2.03700e-02, 1.35800e-02, 2.08900e-02, 7.31000e-03, 2.14100e-02,\n",
       "        8.88000e-03, 1.56700e-02, 1.25300e-02, 2.29800e-02, 1.35800e-02,\n",
       "        9.92000e-03, 8.88000e-03, 7.83000e-03, 6.79000e-03, 3.13300e-02,\n",
       "        4.28200e-02, 6.27000e-03, 2.61000e-03, 2.61000e-03, 3.66000e-03,\n",
       "        1.41000e-02, 1.67100e-02, 3.76000e-02, 1.93200e-02, 3.02900e-02,\n",
       "        3.44600e-02, 2.61000e-03, 1.57000e-03, 0.00000e+00]])"
      ]
     },
     "execution_count": 40,
     "metadata": {},
     "output_type": "execute_result"
    }
   ],
   "source": [
    "df_nu=np.genfromtxt('C:/Users/Admin/Desktop/daily practise/7 june/codon_usage/codon_usage.csv',skip_header=1,delimiter=',',invalid_raise=False, dtype='float')\n",
    "df_nu[:4]"
   ]
  },
  {
   "cell_type": "code",
   "execution_count": 41,
   "metadata": {},
   "outputs": [
    {
     "data": {
      "text/plain": [
       "(13027, 69)"
      ]
     },
     "execution_count": 41,
     "metadata": {},
     "output_type": "execute_result"
    }
   ],
   "source": [
    "df_nu.shape"
   ]
  },
  {
   "cell_type": "code",
   "execution_count": 100,
   "metadata": {},
   "outputs": [],
   "source": [
    "df_nu[np.random.randint(13027, size=60), np.random.randint(69, size=60)] = np.nan"
   ]
  },
  {
   "cell_type": "code",
   "execution_count": 101,
   "metadata": {},
   "outputs": [
    {
     "data": {
      "text/plain": [
       "(array([    0,     0,     1, ..., 13025, 13026, 13026], dtype=int64),\n",
       " array([0, 4, 0, ..., 4, 0, 4], dtype=int64))"
      ]
     },
     "execution_count": 101,
     "metadata": {},
     "output_type": "execute_result"
    }
   ],
   "source": [
    "np.where(np.isnan(df_nu))"
   ]
  },
  {
   "cell_type": "code",
   "execution_count": 102,
   "metadata": {},
   "outputs": [
    {
     "data": {
      "text/plain": [
       "26135"
      ]
     },
     "execution_count": 102,
     "metadata": {},
     "output_type": "execute_result"
    }
   ],
   "source": [
    "np.isnan(df_nu).sum()"
   ]
  },
  {
   "cell_type": "code",
   "execution_count": 103,
   "metadata": {},
   "outputs": [
    {
     "data": {
      "text/plain": [
       "array([], shape=(0, 69), dtype=float64)"
      ]
     },
     "execution_count": 103,
     "metadata": {},
     "output_type": "execute_result"
    }
   ],
   "source": [
    "df_nu[np.array([~np.any(np.isnan(row)) for row in df_nu])][:5]"
   ]
  },
  {
   "cell_type": "code",
   "execution_count": 104,
   "metadata": {},
   "outputs": [
    {
     "data": {
      "text/plain": [
       "array([], shape=(0, 69), dtype=float64)"
      ]
     },
     "execution_count": 104,
     "metadata": {},
     "output_type": "execute_result"
    }
   ],
   "source": [
    "df_nu[np.sum(np.isnan(df_nu), axis = 1) == 0][:5]"
   ]
  },
  {
   "cell_type": "code",
   "execution_count": 110,
   "metadata": {},
   "outputs": [
    {
     "data": {
      "text/plain": [
       "array([[        nan, 0.00000e+00, 1.00217e+05, ..., 2.51000e-03,\n",
       "        5.00000e-04, 0.00000e+00],\n",
       "       [        nan, 0.00000e+00, 1.00220e+05, ..., 2.71000e-03,\n",
       "        6.80000e-04, 0.00000e+00],\n",
       "       [        nan, 0.00000e+00, 1.00755e+05, ..., 3.91000e-03,\n",
       "        0.00000e+00, 1.44000e-03],\n",
       "       ...,\n",
       "       [        nan, 1.00000e+00, 9.60200e+03, ..., 3.56000e-03,\n",
       "        1.19000e-03, 2.01700e-02],\n",
       "       [        nan, 0.00000e+00, 9.60600e+03, ..., 9.90000e-04,\n",
       "        7.90000e-04, 1.56000e-03],\n",
       "       [        nan, 1.00000e+00, 9.60600e+03, ..., 1.56000e-03,\n",
       "        1.14000e-03, 2.16100e-02]])"
      ]
     },
     "execution_count": 110,
     "metadata": {},
     "output_type": "execute_result"
    }
   ],
   "source": [
    "df_nu[np.isnan(df_nu).any(axis=1)]"
   ]
  },
  {
   "cell_type": "code",
   "execution_count": null,
   "metadata": {},
   "outputs": [],
   "source": []
  },
  {
   "cell_type": "code",
   "execution_count": null,
   "metadata": {},
   "outputs": [],
   "source": []
  },
  {
   "cell_type": "code",
   "execution_count": 44,
   "metadata": {},
   "outputs": [],
   "source": [
    "label=df['Kingdom']\n",
    "data = df.drop('Kingdom',axis=1)"
   ]
  },
  {
   "cell_type": "code",
   "execution_count": 45,
   "metadata": {},
   "outputs": [
    {
     "name": "stdout",
     "output_type": "stream",
     "text": [
      "(13028, 61)\n"
     ]
    }
   ],
   "source": [
    "# Data-preprocessing: Standardizing the data\n",
    "from sklearn.preprocessing import StandardScaler\n",
    "standardized_data = StandardScaler().fit_transform(data.iloc[:,7:])\n",
    "print(standardized_data.shape)"
   ]
  },
  {
   "cell_type": "code",
   "execution_count": 46,
   "metadata": {},
   "outputs": [],
   "source": [
    "sample_data = standardized_data"
   ]
  },
  {
   "cell_type": "code",
   "execution_count": 53,
   "metadata": {},
   "outputs": [
    {
     "name": "stdout",
     "output_type": "stream",
     "text": [
      "The shape of variance matrix =  (61, 61)\n"
     ]
    }
   ],
   "source": [
    "# matrix multiplication using numpy\n",
    "covar_matrix = np.cov(sample_data.T)\n",
    "\n",
    "print ( \"The shape of variance matrix = \", covar_matrix.shape)"
   ]
  },
  {
   "cell_type": "code",
   "execution_count": 81,
   "metadata": {},
   "outputs": [
    {
     "name": "stdout",
     "output_type": "stream",
     "text": [
      "Shape of eigen vectors =  (61, 2)\n",
      "Updated shape of eigen vectors =  (2, 61)\n"
     ]
    }
   ],
   "source": [
    "# finding the top two eigen-values and corresponding eigen-vectors \n",
    "# for projecting onto a 2-Dim space.\n",
    "\n",
    "from scipy.linalg import eigh \n",
    "\n",
    "# the parameter 'eigvals' is defined (low value to heigh value) \n",
    "# eigh function will return the eigen values in asending order\n",
    "# this code generates only the top 2 (782 and 783) eigenvalues.\n",
    "values, vectors = eigh(covar_matrix, eigvals=(59,60)) #\n",
    "\n",
    "print(\"Shape of eigen vectors = \",vectors.shape)\n",
    "# converting the eigen vectors into (2,d) shape for easyness of further computations\n",
    "vectors = vectors.T\n",
    "\n",
    "print(\"Updated shape of eigen vectors = \",vectors.shape)\n",
    "# here the vectors[1] represent the eigen vector corresponding 1st principal eigen vector\n",
    "# here the vectors[0] represent the eigen vector corresponding 2nd principal eigen vector"
   ]
  },
  {
   "cell_type": "code",
   "execution_count": 82,
   "metadata": {},
   "outputs": [
    {
     "name": "stdout",
     "output_type": "stream",
     "text": [
      " resultanat new data points' shape  (2, 61) X (61, 13028)  =  (2, 13028)\n"
     ]
    }
   ],
   "source": [
    "# projecting the original data sample on the plane \n",
    "#formed by two principal eigen vectors by vector-vector multiplication.\n",
    "\n",
    "import matplotlib.pyplot as plt\n",
    "new_coordinates = np.matmul(vectors, sample_data.T)\n",
    "\n",
    "print (\" resultanat new data points' shape \", vectors.shape, \"X\", sample_data.T.shape,\" = \", new_coordinates.shape)"
   ]
  },
  {
   "cell_type": "code",
   "execution_count": 83,
   "metadata": {},
   "outputs": [
    {
     "data": {
      "text/plain": [
       "(13028,)"
      ]
     },
     "execution_count": 83,
     "metadata": {},
     "output_type": "execute_result"
    }
   ],
   "source": [
    "label.shape"
   ]
  },
  {
   "cell_type": "code",
   "execution_count": 86,
   "metadata": {},
   "outputs": [
    {
     "name": "stdout",
     "output_type": "stream",
     "text": [
      "  1st_principal 2nd_principal label\n",
      "0       0.15789      -5.89256   vrl\n",
      "1      0.313224      -5.47045   vrl\n",
      "2       2.51188      0.380043   vrl\n",
      "3       2.08072       1.71067   vrl\n",
      "4       4.94015        0.9643   vrl\n"
     ]
    }
   ],
   "source": [
    "# appending label to the 2d projected data\n",
    "new_coordinates = np.vstack((new_coordinates, label)).T\n",
    "\n",
    "# creating a new data frame for ploting the labeled points.\n",
    "dataframe = pd.DataFrame(data=new_coordinates, columns=(\"1st_principal\", \"2nd_principal\", \"label\"))#\n",
    "print(dataframe.head())"
   ]
  },
  {
   "cell_type": "code",
   "execution_count": 87,
   "metadata": {},
   "outputs": [
    {
     "name": "stderr",
     "output_type": "stream",
     "text": [
      "C:\\Users\\Admin\\anaconda3\\lib\\site-packages\\seaborn\\axisgrid.py:243: UserWarning: The `size` parameter has been renamed to `height`; please update your code.\n",
      "  warnings.warn(msg, UserWarning)\n"
     ]
    },
    {
     "data": {
      "image/png": "[encoded data removed]",
      "text/plain": [
       "<Figure size 493.375x432 with 1 Axes>"
      ]
     },
     "metadata": {
      "needs_background": "light"
     },
     "output_type": "display_data"
    }
   ],
   "source": [
    "import seaborn as sn\n",
    "sn.FacetGrid(dataframe, hue=\"label\", size=6).map(plt.scatter, '1st_principal', '2nd_principal').add_legend()\n",
    "plt.show()"
   ]
  },
  {
   "cell_type": "code",
   "execution_count": 47,
   "metadata": {},
   "outputs": [],
   "source": [
    "# initializing the pca\n",
    "from sklearn import decomposition\n",
    "pca = decomposition.PCA()"
   ]
  },
  {
   "cell_type": "code",
   "execution_count": 48,
   "metadata": {},
   "outputs": [
    {
     "name": "stdout",
     "output_type": "stream",
     "text": [
      "shape of pca_reduced.shape =  (13028, 61)\n"
     ]
    }
   ],
   "source": [
    "# configuring the parameteres\n",
    "# the number of components = 61\n",
    "pca.n_components = 61\n",
    "pca_data = pca.fit_transform(sample_data)\n",
    "\n",
    "# pca_reduced will contain the 2-d projects of simple data\n",
    "print(\"shape of pca_reduced.shape = \", pca_data.shape)\n"
   ]
  },
  {
   "cell_type": "code",
   "execution_count": 49,
   "metadata": {},
   "outputs": [
    {
     "data": {
      "image/png": "[encoded data removed]",
      "text/plain": [
       "<Figure size 432x288 with 1 Axes>"
      ]
     },
     "metadata": {
      "needs_background": "light"
     },
     "output_type": "display_data"
    }
   ],
   "source": [
    "percentage_var_explained = pca.explained_variance_ / np.sum(pca.explained_variance_);\n",
    "\n",
    "cum_var_explained = np.cumsum(percentage_var_explained)\n",
    "\n",
    "# Plot the PCA spectrum\n",
    "plt.figure(1, figsize=(6, 4))\n",
    "\n",
    "plt.clf()\n",
    "plt.plot(cum_var_explained, linewidth=2)\n",
    "plt.axis('tight')\n",
    "plt.grid()\n",
    "plt.xlabel('n_components')\n",
    "plt.ylabel('Cumulative_explained_variance')\n",
    "plt.show()\n"
   ]
  },
  {
   "cell_type": "code",
   "execution_count": null,
   "metadata": {},
   "outputs": [],
   "source": []
  }
 ],
 "metadata": {
  "kernelspec": {
   "display_name": "Python 3",
   "language": "python",
   "name": "python3"
  },
  "language_info": {
   "codemirror_mode": {
    "name": "ipython",
    "version": 3
   },
   "file_extension": ".py",
   "mimetype": "text/x-python",
   "name": "python",
   "nbconvert_exporter": "python",
   "pygments_lexer": "ipython3",
   "version": "3.8.3"
  }
 },
 "nbformat": 4,
 "nbformat_minor": 4
}
